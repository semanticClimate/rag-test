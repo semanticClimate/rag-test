{
 "cells": [
  {
   "cell_type": "code",
   "execution_count": null,
   "metadata": {
    "button": false,
    "collapsed": true,
    "deletable": true,
    "new_sheet": false,
    "run_control": {
     "read_only": false
    }
   },
   "outputs": [],
   "source": [
    "\"\"\"\n",
    "https://scikit-image.org/docs/dev/user_guide/numpy_images.html\n",
    "https://scikit-image.org/docs/dev/user_guide/tutorial_segmentation.html\n",
    "https://claudiovz.github.io/scipy-lecture-notes-ES/advanced/image_processing/auto_examples/plot_canny.html\n",
    "https://scipy-lectures.org/advanced/image_processing/index.html#basic-image\n",
    "https://www.geeksforgeeks.org/python-pil-imageops-postarize-method/\n",
    "https://github.com/delimitry/octree_color_quantizer\n",
    "https://matplotlib.org/api/_as_gen/matplotlib.pyplot.figure.html\n",
    "https://chrisalbon.com/python/matplotlib_simple_scatterplot.html (list of posts) =>\n",
    "https://chrisalbon.com/python/data_visualization/matplotlib_simple_scatterplot\n",
    "https://python4astronomers.github.io/plotting/advanced.html\n",
    "https://python-docs.readthedocs.io/en/latest/writing/structure.html\n",
    "https://docs.python.org/3.9/library/\n",
    "https://scipy-lectures.org/advanced/image_processing/\n",
    "https://scipy-lectures.org/packages/scikit-image/\n",
    "https://scipy-lectures.org/packages/\n",
    "https://www.pluralsight.com/guides/importing-image-data-into-numpy-arrays\n",
    "https://scikit-image.org/docs/dev/auto_examples/edges/plot_skeleton.html # thinning\n",
    "https://docs.scipy.org/doc/scipy/reference/generated/scipy.ndimage.label.html\n",
    "https://networkx.org/documentation/stable/tutorial.html\n",
    "https://nanonets.com/blog/receipt-ocr/   # structure of documents\n",
    "https://softwareengineering.stackexchange.com/questions/182093/why-store-a-function-inside-a-python-dictionary/182095 callbacks and functions in dictionaries\n",
    "https://dev.to/codemouse92/dead-simple-python-project-structure-and-imports-38c6 # project structure\n",
    "# actually all the posts in this are relevant.\n",
    "https://www.jetbrains.com/help/pycharm/quick-start-guide.html#create #python/pyCharm tutorials\n",
    "https://docs.python-guide.org/writing/structure/\n",
    "# xmlschema\n",
    "https://stackoverflow.com/questions/299588/validating-with-an-xml-schema-in-python\n",
    "https://xmlschema.readthedocs.io/en/latest/usage.html\n",
    "https://www.kite.com/python/docs/lxml.isoschematron.Schematron\n",
    "\"\"\"\n",
    "\n",
    "\"\"\"\n",
    "maybe\n",
    "https://www.mdpi.com/2072-4292/12/11/1697/htm\n",
    "\"\"\"\n"
   ]
  },
  {
   "cell_type": "code",
   "execution_count": null,
   "metadata": {
    "collapsed": true,
    "run_control": {}
   },
   "outputs": [],
   "source": []
  }
 ],
 "metadata": {
  "kernelspec": {
   "display_name": "Python 3 (ipykernel)",
   "language": "python",
   "name": "python3"
  },
  "language_info": {
   "codemirror_mode": {
    "name": "ipython",
    "version": 3
   },
   "file_extension": ".py",
   "mimetype": "text/x-python",
   "name": "python",
   "nbconvert_exporter": "python",
   "pygments_lexer": "ipython3",
   "version": "3.8.3"
  }
 },
 "nbformat": 4,
 "nbformat_minor": 4
}
